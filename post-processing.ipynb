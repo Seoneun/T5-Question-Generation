{
 "cells": [
  {
   "cell_type": "code",
   "execution_count": 31,
   "id": "95a3b55d",
   "metadata": {},
   "outputs": [],
   "source": [
    "dataset = []\n",
    "path = 'output_9.txt'\n",
    "index = path.find('.')\n",
    "output_path = path[:index] + '_' + path[index::]\n",
    "\n",
    "with open(path, encoding='utf-8') as f:\n",
    "    for line in f.readlines():\n",
    "        dataset.append(line.strip())\n",
    "        \n",
    "for idx, data in enumerate(dataset):\n",
    "    dataset[idx] = data[:-1] + ' ?'\n",
    "    \n",
    "for idx, data in enumerate(dataset):\n",
    "    if data.find('question:') == 0:\n",
    "        dataset[idx] = data[10::]\n",
    "        \n",
    "with open(output_path, 'w', encoding='utf-8') as f:\n",
    "    for data in dataset:\n",
    "        f.write(data.strip() + '\\n')"
   ]
  },
  {
   "cell_type": "code",
   "execution_count": null,
   "id": "98da82f9",
   "metadata": {},
   "outputs": [],
   "source": []
  },
  {
   "cell_type": "code",
   "execution_count": 53,
   "id": "5aeefd04",
   "metadata": {},
   "outputs": [],
   "source": [
    "dataset = []\n",
    "path = 'output_9.txt'\n",
    "index = path.find('.')\n",
    "output_path = path[:index] + '_' + path[index::]\n",
    "\n",
    "with open(path, encoding='utf-8') as f:\n",
    "    for line in f.readlines():\n",
    "        dataset.append(line.strip())\n",
    "        \n",
    "for idx, data in enumerate(dataset):\n",
    "    if data.find(\"'?\") != -1:\n",
    "        dataset[idx] = dataset[idx].replace(\"'?\", '?')\n",
    "        \n",
    "for idx, data in enumerate(dataset):\n",
    "    if data.find(\"'s\") != -1:\n",
    "        dataset[idx] = dataset[idx].replace(\"'s\", \" 's\")\n",
    "    #elif data.find(\"'\") != -1:\n",
    "     #   dataset[idx] = dataset[idx].replace(\"'\", \" ' \")\n",
    "        \n",
    "for idx, data in enumerate(dataset):\n",
    "    dataset[idx] = data[:-1] + ' ?'\n",
    "    \n",
    "for idx, data in enumerate(dataset):\n",
    "    dataset[idx] = dataset[idx].replace('  ', ' ')\n",
    "    \n",
    "for idx, data in enumerate(dataset):\n",
    "    if data.find('question:') == 0:\n",
    "        dataset[idx] = data[10::]\n",
    "        \n",
    "for idx, data in enumerate(dataset):\n",
    "    if data[0] == ',':\n",
    "        dataset[idx] = data[1::]\n",
    "        \n",
    "with open(output_path, 'w', encoding='utf-8') as f:\n",
    "    for data in dataset:\n",
    "        f.write(data.strip() + '\\n')"
   ]
  },
  {
   "cell_type": "code",
   "execution_count": null,
   "id": "b88546cf",
   "metadata": {},
   "outputs": [],
   "source": []
  }
 ],
 "metadata": {
  "kernelspec": {
   "display_name": "Python 3 (ipykernel)",
   "language": "python",
   "name": "python3"
  },
  "language_info": {
   "codemirror_mode": {
    "name": "ipython",
    "version": 3
   },
   "file_extension": ".py",
   "mimetype": "text/x-python",
   "name": "python",
   "nbconvert_exporter": "python",
   "pygments_lexer": "ipython3",
   "version": "3.9.7"
  }
 },
 "nbformat": 4,
 "nbformat_minor": 5
}
